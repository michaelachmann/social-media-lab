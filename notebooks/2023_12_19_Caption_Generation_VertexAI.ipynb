{
  "nbformat": 4,
  "nbformat_minor": 0,
  "metadata": {
    "colab": {
      "provenance": [],
      "authorship_tag": "ABX9TyNtjHlTjO8BRfAMYJrSuedY",
      "include_colab_link": true
    },
    "kernelspec": {
      "name": "python3",
      "display_name": "Python 3"
    },
    "language_info": {
      "name": "python"
    }
  },
  "cells": [
    {
      "cell_type": "markdown",
      "metadata": {
        "id": "view-in-github",
        "colab_type": "text"
      },
      "source": [
        "<a href=\"https://colab.research.google.com/github/michaelachmann/social-media-lab/blob/main/notebooks/2023_12_19_Caption_Generation_VertexAI.ipynb\" target=\"_parent\"><img src=\"https://colab.research.google.com/assets/colab-badge.svg\" alt=\"Open In Colab\"/></a>"
      ]
    },
    {
      "cell_type": "markdown",
      "source": [
        "# Caption Generation with VertexAI (Google) [![DOI](https://zenodo.org/badge/660157642.svg)](https://zenodo.org/badge/latestdoi/660157642)\n",
        "![Notes on (Computational) Social Media Research Banner](https://raw.githubusercontent.com/michaelachmann/social-media-lab/main/images/banner.png)\n",
        "\n",
        "## Overview\n",
        "\n",
        "This Jupyter notebook is a part of the social-media-lab.net project, which is a work-in-progress textbook on computational social media analysis. The notebook is intended for use in my classes.\n",
        "\n",
        "The **Caption Generation with VertexAI (Google)** Notebook provides a few lines of code to downlaod images from a given URL, convert it to base64, and upload the image using a signed request to VertexAI.\n",
        "\n",
        "### Project Information\n",
        "\n",
        "- Project Website: [social-media-lab.net](https://social-media-lab.net/)\n",
        "- GitHub Repository: [https://github.com/michaelachmann/social-media-lab](https://github.com/michaelachmann/social-media-lab)\n",
        "\n",
        "## License Information\n",
        "\n",
        "This notebook, along with all other notebooks in the project, is licensed under the following terms:\n",
        "\n",
        "- License: [GNU General Public License version 3.0 (GPL-3.0)](https://www.gnu.org/licenses/gpl-3.0.de.html)\n",
        "- License File: [LICENSE.md](https://github.com/michaelachmann/social-media-lab/blob/main/LICENSE.md)\n",
        "\n",
        "\n",
        "## Citation\n",
        "\n",
        "If you use or reference this notebook in your work, please cite it appropriately. Here is an example of the citation:\n",
        "\n",
        "```\n",
        "Michael Achmann. (2023). michaelachmann/social-media-lab: DOI Release (v0.0.7). Zenodo. https://doi.org/10.5281/zenodo.8199902\n",
        "```"
      ],
      "metadata": {
        "id": "1orJg8qXClE0"
      }
    },
    {
      "cell_type": "markdown",
      "source": [
        "# Captions using Google Vertex AI"
      ],
      "metadata": {
        "id": "QSn-LLhRTttu"
      }
    },
    {
      "cell_type": "code",
      "source": [
        "!pip install -q google-cloud-aiplatform"
      ],
      "metadata": {
        "id": "jNXc5-70uBWV"
      },
      "execution_count": 1,
      "outputs": []
    },
    {
      "cell_type": "markdown",
      "source": [
        "Run the next cell, click on the link, authorize the request, and paste the authorization code below, there is actually an input field next to *Enter authorization code*; click there for the field to appear."
      ],
      "metadata": {
        "id": "zJj2Uf3TD3v6"
      }
    },
    {
      "cell_type": "code",
      "source": [
        "!gcloud auth login"
      ],
      "metadata": {
        "id": "8na26qKQhRk7"
      },
      "execution_count": null,
      "outputs": []
    },
    {
      "cell_type": "code",
      "source": [
        "import requests\n",
        "import base64\n",
        "import subprocess\n",
        "import numpy as np\n",
        "\n",
        "class GoogleAPI:\n",
        "    def __init__(self, project_id):\n",
        "        self.token = self.get_gcloud_access_token()\n",
        "        self.project_id = project_id\n",
        "\n",
        "    def get_gcloud_access_token(self):\n",
        "        token = subprocess.check_output([\"gcloud\", \"auth\", \"print-access-token\"]).strip().decode('utf-8')\n",
        "        return token\n",
        "\n",
        "    def make_request(self, image_url, response_count=1, language_code=\"en\"):\n",
        "        image_content = self.get_image_from_signed_url(image_url)\n",
        "        b64_image = self.image_to_base64(image_content)\n",
        "\n",
        "        json_data = {\n",
        "            \"instances\": [\n",
        "                {\n",
        "                    \"image\": {\n",
        "                        \"bytesBase64Encoded\": b64_image\n",
        "                    }\n",
        "                }\n",
        "            ],\n",
        "            \"parameters\": {\n",
        "                \"sampleCount\": response_count,\n",
        "                \"language\": language_code\n",
        "            }\n",
        "        }\n",
        "\n",
        "        url = f\"https://us-central1-aiplatform.googleapis.com/v1/projects/{self.project_id}/locations/us-central1/publishers/google/models/imagetext:predict\"\n",
        "        headers = {\n",
        "            \"Authorization\": f\"Bearer {self.token}\",\n",
        "            \"Content-Type\": \"application/json; charset=utf-8\"\n",
        "        }\n",
        "\n",
        "        try:\n",
        "          response = requests.post(url, headers=headers, json=json_data)\n",
        "\n",
        "          if response.status_code == 401:\n",
        "              # Refresh the token and retry\n",
        "              self.token = self.get_gcloud_access_token()\n",
        "              headers[\"Authorization\"] = f\"Bearer {self.token}\"\n",
        "              response = requests.post(url, headers=headers, json=json_data)\n",
        "\n",
        "          response.raise_for_status()  # Raise an exception for HTTP errors\n",
        "          response_data = response.json()\n",
        "\n",
        "          # Check for predictions and return them\n",
        "          predictions = response_data.get('predictions', [])\n",
        "          if predictions:\n",
        "              return predictions[0]  # Return the first prediction\n",
        "          else:\n",
        "              return None  # or return an empty string \"\", based on your preference\n",
        "\n",
        "        except requests.HTTPError as e:\n",
        "            print(f\"Error for URL {image_url}: {e}\")\n",
        "            return np.nan\n",
        "\n",
        "    @staticmethod\n",
        "    def get_image_from_signed_url(url):\n",
        "        response = requests.get(url)\n",
        "        response.raise_for_status()\n",
        "        return response.content\n",
        "\n",
        "    @staticmethod\n",
        "    def image_to_base64(image_content):\n",
        "        return base64.b64encode(image_content).decode('utf-8')"
      ],
      "metadata": {
        "id": "Qz20CzE7kf_c"
      },
      "execution_count": 5,
      "outputs": []
    },
    {
      "cell_type": "markdown",
      "source": [
        "Activate the [Vertex AI API in the Google Cloud Console](https://console.cloud.google.com/marketplace/product/google/aiplatform.googleapis.com). Enter your `project_id` below."
      ],
      "metadata": {
        "id": "P-PLePahEONW"
      }
    },
    {
      "cell_type": "code",
      "source": [
        "project_id = \"some-greatid-23125\"\n",
        "api = GoogleAPI(project_id)"
      ],
      "metadata": {
        "id": "VZ9XF9aGDR-C"
      },
      "execution_count": 6,
      "outputs": []
    },
    {
      "cell_type": "code",
      "source": [
        "response = api.make_request(\"https://placekitten.com/408/287\")"
      ],
      "metadata": {
        "id": "-DR4LzlyDjR_"
      },
      "execution_count": 8,
      "outputs": []
    },
    {
      "cell_type": "markdown",
      "source": [
        "Let's print the caption:"
      ],
      "metadata": {
        "id": "2zrT-AwoEnb-"
      }
    },
    {
      "cell_type": "code",
      "source": [
        "print(response)"
      ],
      "metadata": {
        "colab": {
          "base_uri": "https://localhost:8080/"
        },
        "id": "RKXvyrD2D0QF",
        "outputId": "41ae4386-6b3a-45ce-8423-98263a579931"
      },
      "execution_count": 9,
      "outputs": [
        {
          "output_type": "stream",
          "name": "stdout",
          "text": [
            "a cat is peeking out from behind a door and looking at the camera .\n"
          ]
        }
      ]
    }
  ]
}