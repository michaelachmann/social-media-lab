{
  "cells": [
    {
      "cell_type": "markdown",
      "metadata": {
        "id": "view-in-github",
        "colab_type": "text"
      },
      "source": [
        "<a href=\"https://colab.research.google.com/github/michaelachmann/social-media-lab/blob/main/notebooks/2024_01_12_Visual_BERTopic.ipynb\" target=\"_parent\"><img src=\"https://colab.research.google.com/assets/colab-badge.svg\" alt=\"Open In Colab\"/></a>"
      ]
    },
    {
      "cell_type": "markdown",
      "metadata": {
        "id": "vhifOXfnAe0P"
      },
      "source": [
        "# Visual BERTopic [![DOI](https://zenodo.org/badge/660157642.svg)](https://zenodo.org/badge/latestdoi/660157642)\n",
        "![Notes on (Computational) Social Media Research Banner](https://raw.githubusercontent.com/michaelachmann/social-media-lab/main/images/banner.png)\n",
        "\n",
        "## Overview\n",
        "\n",
        "This Jupyter notebook is a part of the social-media-lab.net project, which is a work-in-progress textbook on computational social media analysis. The notebook is intended for use in my classes.\n",
        "\n",
        "The **Visual BERTopic** Notebook uses BERTopic, the CLIP, and the `vit-gpt2-image-captioning` model to arranges images into topics based on their content. The image captioning model generates a textual description of the content, that is used for the topic modeling.\n",
        "\n",
        "### Project Information\n",
        "\n",
        "- Project Website: [social-media-lab.net](https://social-media-lab.net/)\n",
        "- GitHub Repository: [https://github.com/michaelachmann/social-media-lab](https://github.com/michaelachmann/social-media-lab)\n",
        "\n",
        "## License Information\n",
        "\n",
        "This notebook, along with all other notebooks in the project, is licensed under the following terms:\n",
        "\n",
        "- License: [GNU General Public License version 3.0 (GPL-3.0)](https://www.gnu.org/licenses/gpl-3.0.de.html)\n",
        "- License File: [LICENSE.md](https://github.com/michaelachmann/social-media-lab/blob/main/LICENSE.md)\n",
        "\n",
        "\n",
        "## Citation\n",
        "\n",
        "If you use or reference this notebook in your work, please cite it appropriately. Here is an example of the citation:\n",
        "\n",
        "```\n",
        "Michael Achmann. (2024). michaelachmann/social-media-lab: 2024-1-15 (v0.0.9). Zenodo. https://doi.org/10.5281/zenodo.8199901\n",
        "```"
      ]
    },
    {
      "cell_type": "markdown",
      "metadata": {
        "id": "SzzH9r-zBiQJ"
      },
      "source": [
        "## 1. Data Import"
      ]
    },
    {
      "cell_type": "markdown",
      "source": [
        "### From 4CAT"
      ],
      "metadata": {
        "id": "km4vgLbI0tWd"
      }
    },
    {
      "cell_type": "code",
      "execution_count": null,
      "metadata": {
        "id": "4IaiTmZw8ana",
        "cellView": "form"
      },
      "outputs": [],
      "source": [
        "#@markdown Read the exported `csv` file from 4CAT for metadata.\n",
        "\n",
        "import pandas as pd\n",
        "\n",
        "four_cat_file_path = \"/content/drive/MyDrive/2024-01-09-Bauernproteste/2024-01-09-Combined.csv\" #@param {type:\"string\"}\n",
        "\n",
        "df = pd.read_csv(four_cat_file_path)"
      ]
    },
    {
      "cell_type": "code",
      "source": [
        "df.head()"
      ],
      "metadata": {
        "id": "p-eOdAqf_7cR"
      },
      "execution_count": null,
      "outputs": []
    },
    {
      "cell_type": "code",
      "execution_count": null,
      "metadata": {
        "id": "0TZwwx7l_h3t",
        "cellView": "form"
      },
      "outputs": [],
      "source": [
        "#@title Unzip and Process Videos from 4CAT Export\n",
        "\n",
        "#@markdown This script will unzip a specified ZIP file, read a metadata JSON file, and then process and relocate video files according to the metadata.\n",
        "\n",
        "import zipfile\n",
        "import json\n",
        "import os\n",
        "\n",
        "#@markdown Enter the Path to the ZIP File\n",
        "zip_file_path = '/content/drive/MyDrive/2024-01-09-Bauernproteste/2024-01-09-#Bauern-Bilder.zip' #@param {type:\"string\"}\n",
        "output_zip_file_path = '/content/drive/MyDrive/2024-01-09-Bauernproteste/2024-01-09-Images-Clean.zip' #@param {type:\"string\"}\n",
        "\n",
        "\n",
        "#@markdown Enter the Extraction Folder Path\n",
        "four_cat_folder = \"4cat-export/\" #@param {type:\"string\"}\n",
        "\n",
        "#@markdown Enter the Destination Folder Path for Videos\n",
        "video_path = \"media/images\" #@param {type:\"string\"}\n",
        "\n",
        "# Open the ZIP file\n",
        "with zipfile.ZipFile(zip_file_path, 'r') as zip_ref:\n",
        "    # Extract all the contents into the specified folder\n",
        "    zip_ref.extractall(four_cat_folder)\n",
        "\n",
        "print(f\"Files extracted to {four_cat_folder}\")\n",
        "\n",
        "# Specify the path to the metadata JSON file\n",
        "metadata_file_path = f'{four_cat_folder}/.metadata.json'\n",
        "\n",
        "# Open the metadata file and load its content\n",
        "with open(metadata_file_path, 'r') as file:\n",
        "    data = json.load(file)\n",
        "\n",
        "# Check if the destination directory for videos exists\n",
        "if not os.path.exists(video_path):\n",
        "    # Create the directory if it does not exist\n",
        "    os.makedirs(video_path)\n",
        "\n",
        "# Process each item in the metadata\n",
        "for item in data.values():\n",
        "    if item.get('success', False):\n",
        "        post_id = item['post_ids'][0]\n",
        "        filename = item['filename']\n",
        "        print(f\"Processing Post ID: {post_id}, Filename: {filename}\")\n",
        "\n",
        "        # Full path to the source file\n",
        "        source_path = os.path.join(four_cat_folder, filename)\n",
        "\n",
        "        # Full path to the destination file\n",
        "        destination_path = os.path.join(video_path, f\"{post_id}.jpg\")\n",
        "\n",
        "        # Move and rename the file\n",
        "        os.rename(source_path, destination_path)"
      ]
    },
    {
      "cell_type": "markdown",
      "metadata": {
        "id": "EWB7hdcaDoDf"
      },
      "source": [
        "Using the next line we save the extracted image files to a new `ZIP` file following our `media/images/` convention. This will be useful for future tasks / notebooks. Rename the file according to your needs."
      ]
    },
    {
      "cell_type": "code",
      "execution_count": null,
      "metadata": {
        "id": "09AIEmwXC1zx"
      },
      "outputs": [],
      "source": [
        "!zip -r /content/drive/MyDrive/2024-01-09-Bauernproteste/2024-01-09-Images-Clean.zip media"
      ]
    },
    {
      "cell_type": "markdown",
      "metadata": {
        "id": "OLmiGF9cD7cU"
      },
      "source": [
        "Here we add a new column to the metadata table, referencing the image file."
      ]
    },
    {
      "cell_type": "code",
      "execution_count": null,
      "metadata": {
        "id": "8LEBFBU88uV1"
      },
      "outputs": [],
      "source": [
        "df['image_file'] = df.apply(lambda row: f\"media/images/{row['id']}.jpg\", axis=1)"
      ]
    },
    {
      "cell_type": "code",
      "execution_count": null,
      "metadata": {
        "colab": {
          "base_uri": "https://localhost:8080/",
          "height": 206
        },
        "id": "0Otg3eZT89js",
        "outputId": "a5a048b2-82db-42c8-a697-12ae3780e51f"
      },
      "outputs": [
        {
          "output_type": "execute_result",
          "data": {
            "text/plain": [
              "                    id                                               body  \\\n",
              "0  7321692663852404001  #Fakten #mutzurwahrheit #ulrichsiegmund #AfD #...   \n",
              "1  7320593840212151584  Unstoppable 🇩🇪 #deutschland #8januar2024 #baue...   \n",
              "2  7321341957333060896  08.01.2024 Streik - Hoss & Hopf #hossundhopf #...   \n",
              "3  7321355364950117665  #streik #2024 #bauernstreik2024 #deutschland #...   \n",
              "4  7321656341590789409  #🌞❤️ #sunshineheart #sunshineheartforever #🇩🇪 ...   \n",
              "\n",
              "                                          Transcript  \\\n",
              "0  Liebe Freunde, schaut euch das an, das ist der...   \n",
              "1                                  the next, video!!   \n",
              "2  scheiß Bauern, die, was weiß ich, ich habe auc...   \n",
              "3                                          😎😎😎😎😎😎😎😎😎   \n",
              "4                                                NaN   \n",
              "\n",
              "                                      image_file  \n",
              "0  /content/media/images/7321692663852404001.jpg  \n",
              "1  /content/media/images/7320593840212151584.jpg  \n",
              "2  /content/media/images/7321341957333060896.jpg  \n",
              "3  /content/media/images/7321355364950117665.jpg  \n",
              "4  /content/media/images/7321656341590789409.jpg  "
            ],
            "text/html": [
              "\n",
              "  <div id=\"df-8795fc19-07dc-479d-bb03-1a7eec9a1bda\" class=\"colab-df-container\">\n",
              "    <div>\n",
              "<style scoped>\n",
              "    .dataframe tbody tr th:only-of-type {\n",
              "        vertical-align: middle;\n",
              "    }\n",
              "\n",
              "    .dataframe tbody tr th {\n",
              "        vertical-align: top;\n",
              "    }\n",
              "\n",
              "    .dataframe thead th {\n",
              "        text-align: right;\n",
              "    }\n",
              "</style>\n",
              "<table border=\"1\" class=\"dataframe\">\n",
              "  <thead>\n",
              "    <tr style=\"text-align: right;\">\n",
              "      <th></th>\n",
              "      <th>id</th>\n",
              "      <th>body</th>\n",
              "      <th>Transcript</th>\n",
              "      <th>image_file</th>\n",
              "    </tr>\n",
              "  </thead>\n",
              "  <tbody>\n",
              "    <tr>\n",
              "      <th>0</th>\n",
              "      <td>7321692663852404001</td>\n",
              "      <td>#Fakten #mutzurwahrheit #ulrichsiegmund #AfD #...</td>\n",
              "      <td>Liebe Freunde, schaut euch das an, das ist der...</td>\n",
              "      <td>/content/media/images/7321692663852404001.jpg</td>\n",
              "    </tr>\n",
              "    <tr>\n",
              "      <th>1</th>\n",
              "      <td>7320593840212151584</td>\n",
              "      <td>Unstoppable 🇩🇪 #deutschland #8januar2024 #baue...</td>\n",
              "      <td>the next, video!!</td>\n",
              "      <td>/content/media/images/7320593840212151584.jpg</td>\n",
              "    </tr>\n",
              "    <tr>\n",
              "      <th>2</th>\n",
              "      <td>7321341957333060896</td>\n",
              "      <td>08.01.2024 Streik - Hoss &amp; Hopf #hossundhopf #...</td>\n",
              "      <td>scheiß Bauern, die, was weiß ich, ich habe auc...</td>\n",
              "      <td>/content/media/images/7321341957333060896.jpg</td>\n",
              "    </tr>\n",
              "    <tr>\n",
              "      <th>3</th>\n",
              "      <td>7321355364950117665</td>\n",
              "      <td>#streik #2024 #bauernstreik2024 #deutschland #...</td>\n",
              "      <td>😎😎😎😎😎😎😎😎😎</td>\n",
              "      <td>/content/media/images/7321355364950117665.jpg</td>\n",
              "    </tr>\n",
              "    <tr>\n",
              "      <th>4</th>\n",
              "      <td>7321656341590789409</td>\n",
              "      <td>#🌞❤️ #sunshineheart #sunshineheartforever #🇩🇪 ...</td>\n",
              "      <td>NaN</td>\n",
              "      <td>/content/media/images/7321656341590789409.jpg</td>\n",
              "    </tr>\n",
              "  </tbody>\n",
              "</table>\n",
              "</div>\n",
              "    <div class=\"colab-df-buttons\">\n",
              "\n",
              "  <div class=\"colab-df-container\">\n",
              "    <button class=\"colab-df-convert\" onclick=\"convertToInteractive('df-8795fc19-07dc-479d-bb03-1a7eec9a1bda')\"\n",
              "            title=\"Convert this dataframe to an interactive table.\"\n",
              "            style=\"display:none;\">\n",
              "\n",
              "  <svg xmlns=\"http://www.w3.org/2000/svg\" height=\"24px\" viewBox=\"0 -960 960 960\">\n",
              "    <path d=\"M120-120v-720h720v720H120Zm60-500h600v-160H180v160Zm220 220h160v-160H400v160Zm0 220h160v-160H400v160ZM180-400h160v-160H180v160Zm440 0h160v-160H620v160ZM180-180h160v-160H180v160Zm440 0h160v-160H620v160Z\"/>\n",
              "  </svg>\n",
              "    </button>\n",
              "\n",
              "  <style>\n",
              "    .colab-df-container {\n",
              "      display:flex;\n",
              "      gap: 12px;\n",
              "    }\n",
              "\n",
              "    .colab-df-convert {\n",
              "      background-color: #E8F0FE;\n",
              "      border: none;\n",
              "      border-radius: 50%;\n",
              "      cursor: pointer;\n",
              "      display: none;\n",
              "      fill: #1967D2;\n",
              "      height: 32px;\n",
              "      padding: 0 0 0 0;\n",
              "      width: 32px;\n",
              "    }\n",
              "\n",
              "    .colab-df-convert:hover {\n",
              "      background-color: #E2EBFA;\n",
              "      box-shadow: 0px 1px 2px rgba(60, 64, 67, 0.3), 0px 1px 3px 1px rgba(60, 64, 67, 0.15);\n",
              "      fill: #174EA6;\n",
              "    }\n",
              "\n",
              "    .colab-df-buttons div {\n",
              "      margin-bottom: 4px;\n",
              "    }\n",
              "\n",
              "    [theme=dark] .colab-df-convert {\n",
              "      background-color: #3B4455;\n",
              "      fill: #D2E3FC;\n",
              "    }\n",
              "\n",
              "    [theme=dark] .colab-df-convert:hover {\n",
              "      background-color: #434B5C;\n",
              "      box-shadow: 0px 1px 3px 1px rgba(0, 0, 0, 0.15);\n",
              "      filter: drop-shadow(0px 1px 2px rgba(0, 0, 0, 0.3));\n",
              "      fill: #FFFFFF;\n",
              "    }\n",
              "  </style>\n",
              "\n",
              "    <script>\n",
              "      const buttonEl =\n",
              "        document.querySelector('#df-8795fc19-07dc-479d-bb03-1a7eec9a1bda button.colab-df-convert');\n",
              "      buttonEl.style.display =\n",
              "        google.colab.kernel.accessAllowed ? 'block' : 'none';\n",
              "\n",
              "      async function convertToInteractive(key) {\n",
              "        const element = document.querySelector('#df-8795fc19-07dc-479d-bb03-1a7eec9a1bda');\n",
              "        const dataTable =\n",
              "          await google.colab.kernel.invokeFunction('convertToInteractive',\n",
              "                                                    [key], {});\n",
              "        if (!dataTable) return;\n",
              "\n",
              "        const docLinkHtml = 'Like what you see? Visit the ' +\n",
              "          '<a target=\"_blank\" href=https://colab.research.google.com/notebooks/data_table.ipynb>data table notebook</a>'\n",
              "          + ' to learn more about interactive tables.';\n",
              "        element.innerHTML = '';\n",
              "        dataTable['output_type'] = 'display_data';\n",
              "        await google.colab.output.renderOutput(dataTable, element);\n",
              "        const docLink = document.createElement('div');\n",
              "        docLink.innerHTML = docLinkHtml;\n",
              "        element.appendChild(docLink);\n",
              "      }\n",
              "    </script>\n",
              "  </div>\n",
              "\n",
              "\n",
              "<div id=\"df-fbe29d46-54e8-4de6-a9b8-48692a7f675b\">\n",
              "  <button class=\"colab-df-quickchart\" onclick=\"quickchart('df-fbe29d46-54e8-4de6-a9b8-48692a7f675b')\"\n",
              "            title=\"Suggest charts\"\n",
              "            style=\"display:none;\">\n",
              "\n",
              "<svg xmlns=\"http://www.w3.org/2000/svg\" height=\"24px\"viewBox=\"0 0 24 24\"\n",
              "     width=\"24px\">\n",
              "    <g>\n",
              "        <path d=\"M19 3H5c-1.1 0-2 .9-2 2v14c0 1.1.9 2 2 2h14c1.1 0 2-.9 2-2V5c0-1.1-.9-2-2-2zM9 17H7v-7h2v7zm4 0h-2V7h2v10zm4 0h-2v-4h2v4z\"/>\n",
              "    </g>\n",
              "</svg>\n",
              "  </button>\n",
              "\n",
              "<style>\n",
              "  .colab-df-quickchart {\n",
              "      --bg-color: #E8F0FE;\n",
              "      --fill-color: #1967D2;\n",
              "      --hover-bg-color: #E2EBFA;\n",
              "      --hover-fill-color: #174EA6;\n",
              "      --disabled-fill-color: #AAA;\n",
              "      --disabled-bg-color: #DDD;\n",
              "  }\n",
              "\n",
              "  [theme=dark] .colab-df-quickchart {\n",
              "      --bg-color: #3B4455;\n",
              "      --fill-color: #D2E3FC;\n",
              "      --hover-bg-color: #434B5C;\n",
              "      --hover-fill-color: #FFFFFF;\n",
              "      --disabled-bg-color: #3B4455;\n",
              "      --disabled-fill-color: #666;\n",
              "  }\n",
              "\n",
              "  .colab-df-quickchart {\n",
              "    background-color: var(--bg-color);\n",
              "    border: none;\n",
              "    border-radius: 50%;\n",
              "    cursor: pointer;\n",
              "    display: none;\n",
              "    fill: var(--fill-color);\n",
              "    height: 32px;\n",
              "    padding: 0;\n",
              "    width: 32px;\n",
              "  }\n",
              "\n",
              "  .colab-df-quickchart:hover {\n",
              "    background-color: var(--hover-bg-color);\n",
              "    box-shadow: 0 1px 2px rgba(60, 64, 67, 0.3), 0 1px 3px 1px rgba(60, 64, 67, 0.15);\n",
              "    fill: var(--button-hover-fill-color);\n",
              "  }\n",
              "\n",
              "  .colab-df-quickchart-complete:disabled,\n",
              "  .colab-df-quickchart-complete:disabled:hover {\n",
              "    background-color: var(--disabled-bg-color);\n",
              "    fill: var(--disabled-fill-color);\n",
              "    box-shadow: none;\n",
              "  }\n",
              "\n",
              "  .colab-df-spinner {\n",
              "    border: 2px solid var(--fill-color);\n",
              "    border-color: transparent;\n",
              "    border-bottom-color: var(--fill-color);\n",
              "    animation:\n",
              "      spin 1s steps(1) infinite;\n",
              "  }\n",
              "\n",
              "  @keyframes spin {\n",
              "    0% {\n",
              "      border-color: transparent;\n",
              "      border-bottom-color: var(--fill-color);\n",
              "      border-left-color: var(--fill-color);\n",
              "    }\n",
              "    20% {\n",
              "      border-color: transparent;\n",
              "      border-left-color: var(--fill-color);\n",
              "      border-top-color: var(--fill-color);\n",
              "    }\n",
              "    30% {\n",
              "      border-color: transparent;\n",
              "      border-left-color: var(--fill-color);\n",
              "      border-top-color: var(--fill-color);\n",
              "      border-right-color: var(--fill-color);\n",
              "    }\n",
              "    40% {\n",
              "      border-color: transparent;\n",
              "      border-right-color: var(--fill-color);\n",
              "      border-top-color: var(--fill-color);\n",
              "    }\n",
              "    60% {\n",
              "      border-color: transparent;\n",
              "      border-right-color: var(--fill-color);\n",
              "    }\n",
              "    80% {\n",
              "      border-color: transparent;\n",
              "      border-right-color: var(--fill-color);\n",
              "      border-bottom-color: var(--fill-color);\n",
              "    }\n",
              "    90% {\n",
              "      border-color: transparent;\n",
              "      border-bottom-color: var(--fill-color);\n",
              "    }\n",
              "  }\n",
              "</style>\n",
              "\n",
              "  <script>\n",
              "    async function quickchart(key) {\n",
              "      const quickchartButtonEl =\n",
              "        document.querySelector('#' + key + ' button');\n",
              "      quickchartButtonEl.disabled = true;  // To prevent multiple clicks.\n",
              "      quickchartButtonEl.classList.add('colab-df-spinner');\n",
              "      try {\n",
              "        const charts = await google.colab.kernel.invokeFunction(\n",
              "            'suggestCharts', [key], {});\n",
              "      } catch (error) {\n",
              "        console.error('Error during call to suggestCharts:', error);\n",
              "      }\n",
              "      quickchartButtonEl.classList.remove('colab-df-spinner');\n",
              "      quickchartButtonEl.classList.add('colab-df-quickchart-complete');\n",
              "    }\n",
              "    (() => {\n",
              "      let quickchartButtonEl =\n",
              "        document.querySelector('#df-fbe29d46-54e8-4de6-a9b8-48692a7f675b button');\n",
              "      quickchartButtonEl.style.display =\n",
              "        google.colab.kernel.accessAllowed ? 'block' : 'none';\n",
              "    })();\n",
              "  </script>\n",
              "</div>\n",
              "    </div>\n",
              "  </div>\n"
            ]
          },
          "metadata": {},
          "execution_count": 77
        }
      ],
      "source": [
        "df[['id', 'body', 'Transcript', 'image_file']].head()"
      ]
    },
    {
      "cell_type": "markdown",
      "source": [
        "### From Zeeschuimer-F"
      ],
      "metadata": {
        "id": "fIKCGeR8woZq"
      }
    },
    {
      "cell_type": "code",
      "execution_count": null,
      "metadata": {
        "id": "kHESbxGytzwM"
      },
      "outputs": [],
      "source": [
        "import pandas as pd\n",
        "\n",
        "df_filepath = '/content/drive/MyDrive/2022-11-09-Stories-Exported.csv'\n",
        "df = pd.read_csv(df_filepath)"
      ]
    },
    {
      "cell_type": "code",
      "execution_count": null,
      "metadata": {
        "id": "iLumIO7_trc1"
      },
      "outputs": [],
      "source": [
        "!unzip /content/drive/MyDrive/2023-11-09-Story-Media-Export.zip"
      ]
    },
    {
      "cell_type": "code",
      "execution_count": null,
      "metadata": {
        "id": "DDLHiQAjj1CL"
      },
      "outputs": [],
      "source": [
        "df['image_file'] = df.apply(lambda row: f\"media/images/{row['Username']}/{row['ID']}.mp4, axis=1)"
      ]
    },
    {
      "cell_type": "code",
      "execution_count": null,
      "metadata": {
        "id": "Oet5qvVWt6uM"
      },
      "outputs": [],
      "source": [
        "df.head()"
      ]
    },
    {
      "cell_type": "markdown",
      "source": [
        "### Previously Cleaned Files"
      ],
      "metadata": {
        "id": "v9h-M1gn0XgS"
      }
    },
    {
      "cell_type": "code",
      "source": [
        "!unzip /content/drive/MyDrive/2024-01-09-Bauernproteste/2024-01-09-Images-Clean.zip"
      ],
      "metadata": {
        "id": "XtfQZMFn0bwX"
      },
      "execution_count": null,
      "outputs": []
    },
    {
      "cell_type": "code",
      "source": [
        "#@markdown Read the cleaned `csv` file.\n",
        "\n",
        "import pandas as pd\n",
        "\n",
        "clean_file_path = \"/content/drive/MyDrive/2024-01-09-Bauernproteste/2024-01-09-Combined.csv\" #@param {type:\"string\"}\n",
        "\n",
        "df = pd.read_csv(clean_file_path)"
      ],
      "metadata": {
        "cellView": "form",
        "id": "8bDPkHAi0eQM"
      },
      "execution_count": null,
      "outputs": []
    },
    {
      "cell_type": "code",
      "source": [
        "df['image_file'] = df.apply(lambda row: f\"/content/media/images/{row['id']}.jpg\", axis=1)"
      ],
      "metadata": {
        "id": "wNn4R5po3CcW"
      },
      "execution_count": null,
      "outputs": []
    },
    {
      "cell_type": "code",
      "source": [
        "df.head()"
      ],
      "metadata": {
        "id": "IiU3M2lk2zLn"
      },
      "execution_count": null,
      "outputs": []
    },
    {
      "cell_type": "markdown",
      "source": [
        "## BERTopic"
      ],
      "metadata": {
        "id": "Kb69tFAe09Eo"
      }
    },
    {
      "cell_type": "code",
      "source": [
        "!pip install bertopic[vision]"
      ],
      "metadata": {
        "id": "ScDNrgNc1JEs"
      },
      "execution_count": null,
      "outputs": []
    },
    {
      "cell_type": "markdown",
      "source": [
        "### Images Only"
      ],
      "metadata": {
        "id": "v6g5iTWY48kX"
      }
    },
    {
      "cell_type": "code",
      "source": [
        "from bertopic.representation import KeyBERTInspired, VisualRepresentation\n",
        "from bertopic.backend import MultiModalBackend\n",
        "\n",
        "# Image embedding model\n",
        "embedding_model = MultiModalBackend('clip-ViT-B-32', batch_size=32)\n",
        "\n",
        "# Image to text representation model\n",
        "representation_model = {\n",
        "    \"Visual_Aspect\": VisualRepresentation(image_to_text_model=\"nlpconnect/vit-gpt2-image-captioning\")\n",
        "}\n"
      ],
      "metadata": {
        "colab": {
          "base_uri": "https://localhost:8080/"
        },
        "id": "1k7yDHDv493M",
        "outputId": "cf1460e5-f669-4ffe-bf45-82447c60fb49"
      },
      "execution_count": null,
      "outputs": [
        {
          "output_type": "stream",
          "name": "stderr",
          "text": [
            "Could not find image processor class in the image processor config or the model config. Loading based on pattern matching with the model's feature extractor configuration.\n"
          ]
        }
      ]
    },
    {
      "cell_type": "code",
      "source": [
        "# We create a copy of our dataframe and remove all lines without captions.\n",
        "# Replace the `body` column with the text column of your interest.\n",
        "image_only_df = df.copy()\n",
        "images = image_only_df['image_file'].to_list()"
      ],
      "metadata": {
        "id": "OgatBjBZ6V5I"
      },
      "execution_count": null,
      "outputs": []
    },
    {
      "cell_type": "code",
      "source": [
        "from bertopic import BERTopic\n",
        "\n",
        "# Train our model with images only\n",
        "topic_model = BERTopic(embedding_model=embedding_model, representation_model=representation_model, min_topic_size=5)\n",
        "topics, probs = topic_model.fit_transform(documents=None, images=images)"
      ],
      "metadata": {
        "colab": {
          "base_uri": "https://localhost:8080/"
        },
        "id": "HQj3G9Rs6TEK",
        "outputId": "987c265b-f792-47bd-9647-4309e316fe75"
      },
      "execution_count": null,
      "outputs": [
        {
          "output_type": "stream",
          "name": "stderr",
          "text": [
            "100%|██████████| 7/7 [02:33<00:00, 21.88s/it]\n",
            "100%|██████████| 7/7 [00:02<00:00,  2.99it/s]\n"
          ]
        }
      ]
    },
    {
      "cell_type": "code",
      "source": [
        "import base64\n",
        "from io import BytesIO\n",
        "from IPython.display import HTML\n",
        "\n",
        "def image_base64(im):\n",
        "    if isinstance(im, str):\n",
        "        im = get_thumbnail(im)\n",
        "    with BytesIO() as buffer:\n",
        "        im.save(buffer, 'jpeg')\n",
        "        return base64.b64encode(buffer.getvalue()).decode()\n",
        "\n",
        "\n",
        "def image_formatter(im):\n",
        "    return f'<img src=\"data:image/jpeg;base64,{image_base64(im)}\">'\n",
        "\n",
        "# Extract dataframe\n",
        "topic_df = topic_model.get_topic_info().drop(\"Representative_Docs\", 1).drop(\"Name\", 1)\n",
        "\n",
        "# Visualize the images\n",
        "HTML(topic_df.to_html(formatters={'Visual_Aspect': image_formatter}, escape=False))\n"
      ],
      "metadata": {
        "id": "ncAQVkkZ7Oix"
      },
      "execution_count": null,
      "outputs": []
    }
  ],
  "metadata": {
    "colab": {
      "provenance": [],
      "gpuType": "T4",
      "mount_file_id": "1cu4ttxHBPccGvAAQCFKcI-QO14LErlg2",
      "authorship_tag": "ABX9TyMGWkIzXQuX71vzB4d6EEy/",
      "include_colab_link": true
    },
    "kernelspec": {
      "display_name": "Python 3",
      "name": "python3"
    },
    "language_info": {
      "name": "python"
    },
    "accelerator": "GPU"
  },
  "nbformat": 4,
  "nbformat_minor": 0
}