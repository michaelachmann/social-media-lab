{
  "nbformat": 4,
  "nbformat_minor": 0,
  "metadata": {
    "colab": {
      "provenance": [],
      "mount_file_id": "1A1oBpMsYrS4FZDvcY-St9AU2QS37HGNw",
      "authorship_tag": "ABX9TyNcv6ulstYrsC4i8nXf1DKo",
      "include_colab_link": true
    },
    "kernelspec": {
      "name": "python3",
      "display_name": "Python 3"
    },
    "language_info": {
      "name": "python"
    }
  },
  "cells": [
    {
      "cell_type": "markdown",
      "metadata": {
        "id": "view-in-github",
        "colab_type": "text"
      },
      "source": [
        "<a href=\"https://colab.research.google.com/github/michaelachmann/social-media-lab/blob/main/notebooks/2023_12_14_Create_LabelStudio_Text_Evaluation.ipynb\" target=\"_parent\"><img src=\"https://colab.research.google.com/assets/colab-badge.svg\" alt=\"Open In Colab\"/></a>"
      ]
    },
    {
      "cell_type": "markdown",
      "source": [
        "## Export to LabelStudio (Text) [![DOI](https://zenodo.org/badge/660157642.svg)](https://zenodo.org/badge/latestdoi/660157642)\n",
        "![Notes on (Computational) Social Media Research Banner](https://raw.githubusercontent.com/michaelachmann/social-media-lab/main/images/banner.png)\n",
        "\n",
        "## Overview\n",
        "\n",
        "This Jupyter notebook is a part of the social-media-lab.net project, which is a work-in-progress textbook on computational social media analysis. The notebook is intended for use in my classes.\n",
        "\n",
        "The **Export to LabelStudio (Text)** Notebook provides an automated workflow to create annotation projects and to automatically import **text** documents.\n",
        "\n",
        "### Project Information\n",
        "\n",
        "- Project Website: [social-media-lab.net](https://social-media-lab.net/)\n",
        "- GitHub Repository: [https://github.com/michaelachmann/social-media-lab](https://github.com/michaelachmann/social-media-lab)\n",
        "\n",
        "## License Information\n",
        "\n",
        "This notebook, along with all other notebooks in the project, is licensed under the following terms:\n",
        "\n",
        "- License: [GNU General Public License version 3.0 (GPL-3.0)](https://www.gnu.org/licenses/gpl-3.0.de.html)\n",
        "- License File: [LICENSE.md](https://github.com/michaelachmann/social-media-lab/blob/main/LICENSE.md)\n",
        "\n",
        "\n",
        "## Citation\n",
        "\n",
        "If you use or reference this notebook in your work, please cite it appropriately. Here is an example of the citation:\n",
        "\n",
        "```\n",
        "Michael Achmann. (2023). michaelachmann/social-media-lab: 2023-12-04 (v0.0.6). Zenodo. https://doi.org/10.5281/zenodo.8199901\n",
        "```"
      ],
      "metadata": {
        "id": "voKy2rVy7PlL"
      }
    },
    {
      "cell_type": "code",
      "source": [
        "!pip -q install label-studio-sdk"
      ],
      "metadata": {
        "id": "J1sLoUSsXzS4"
      },
      "execution_count": 1,
      "outputs": []
    },
    {
      "cell_type": "markdown",
      "source": [
        "### Let's read the text master from the previous sessions"
      ],
      "metadata": {
        "id": "NBow_A02gg8j"
      }
    },
    {
      "cell_type": "code",
      "execution_count": 5,
      "metadata": {
        "id": "i9hkqOpUb8kQ"
      },
      "outputs": [],
      "source": [
        "import pandas as pd\n",
        "\n",
        "df = pd.read_csv('/content/drive/MyDrive/2023-12-01-Export-Posts-Text-Master.csv')"
      ]
    },
    {
      "cell_type": "markdown",
      "source": [
        "In my [video on GPT text classification](https://youtu.be/QcYGwC4QzW0) I mentioned the problem of the unique identifier, as we also need a unique identifier for the annotations. Use the code below in our text classification notebook when working with multidocument classifications!"
      ],
      "metadata": {
        "id": "-TbauZ65PWhU"
      }
    },
    {
      "cell_type": "code",
      "source": [
        "df['identifier'] = df.apply(lambda x: f\"{x['shortcode']}-{x['Text Type']}\", axis=1)"
      ],
      "metadata": {
        "id": "4IGsSLHCPypm"
      },
      "execution_count": 7,
      "outputs": []
    },
    {
      "cell_type": "code",
      "source": [
        "df.head()"
      ],
      "metadata": {
        "colab": {
          "base_uri": "https://localhost:8080/",
          "height": 206
        },
        "id": "Y3NRaT_4gxes",
        "outputId": "155af2da-17ca-46c4-947e-6565f40640de"
      },
      "execution_count": 8,
      "outputs": [
        {
          "output_type": "execute_result",
          "data": {
            "text/plain": [
              "   Unnamed: 0    shortcode                                               Text  \\\n",
              "0           0  CyMAe_tufcR  #Landtagswahl23 🤩🧡🙏 #FREIEWÄHLER #Aiwanger #Da...   \n",
              "1           1  CyL975vouHU  Die Landtagswahl war für uns als Liberale hart...   \n",
              "2           2  CyL8GWWJmci  Nach einem starken Wahlkampf ein verdientes Er...   \n",
              "3           3  CyL7wyJtTV5  So viele Menschen am Odeonsplatz heute mit ein...   \n",
              "4           4  CyLxwHuvR4Y  Herzlichen Glückwunsch zu diesem grandiosen Wa...   \n",
              "\n",
              "  Text Type                                      Policy Issues  \\\n",
              "0   Caption  ['1. Political parties:\\n- FREIEWÄHLER\\n- Aiwa...   \n",
              "1   Caption                                   ['Landtagswahl']   \n",
              "2   Caption  ['1. Wahlkampf und Wahlergebnis:\\n- Wahlkampf\\...   \n",
              "3   Caption  ['Israel', 'Terrorismus', 'Hamas', 'Entwicklun...   \n",
              "4   Caption  ['1. Wahlsieg und Parlamentseinstieg\\n- Wahlsi...   \n",
              "\n",
              "            identifier  \n",
              "0  CyMAe_tufcR-Caption  \n",
              "1  CyL975vouHU-Caption  \n",
              "2  CyL8GWWJmci-Caption  \n",
              "3  CyL7wyJtTV5-Caption  \n",
              "4  CyLxwHuvR4Y-Caption  "
            ],
            "text/html": [
              "\n",
              "  <div id=\"df-2c59a3eb-cae0-446b-a21d-3a49644eb089\" class=\"colab-df-container\">\n",
              "    <div>\n",
              "<style scoped>\n",
              "    .dataframe tbody tr th:only-of-type {\n",
              "        vertical-align: middle;\n",
              "    }\n",
              "\n",
              "    .dataframe tbody tr th {\n",
              "        vertical-align: top;\n",
              "    }\n",
              "\n",
              "    .dataframe thead th {\n",
              "        text-align: right;\n",
              "    }\n",
              "</style>\n",
              "<table border=\"1\" class=\"dataframe\">\n",
              "  <thead>\n",
              "    <tr style=\"text-align: right;\">\n",
              "      <th></th>\n",
              "      <th>Unnamed: 0</th>\n",
              "      <th>shortcode</th>\n",
              "      <th>Text</th>\n",
              "      <th>Text Type</th>\n",
              "      <th>Policy Issues</th>\n",
              "      <th>identifier</th>\n",
              "    </tr>\n",
              "  </thead>\n",
              "  <tbody>\n",
              "    <tr>\n",
              "      <th>0</th>\n",
              "      <td>0</td>\n",
              "      <td>CyMAe_tufcR</td>\n",
              "      <td>#Landtagswahl23 🤩🧡🙏 #FREIEWÄHLER #Aiwanger #Da...</td>\n",
              "      <td>Caption</td>\n",
              "      <td>['1. Political parties:\\n- FREIEWÄHLER\\n- Aiwa...</td>\n",
              "      <td>CyMAe_tufcR-Caption</td>\n",
              "    </tr>\n",
              "    <tr>\n",
              "      <th>1</th>\n",
              "      <td>1</td>\n",
              "      <td>CyL975vouHU</td>\n",
              "      <td>Die Landtagswahl war für uns als Liberale hart...</td>\n",
              "      <td>Caption</td>\n",
              "      <td>['Landtagswahl']</td>\n",
              "      <td>CyL975vouHU-Caption</td>\n",
              "    </tr>\n",
              "    <tr>\n",
              "      <th>2</th>\n",
              "      <td>2</td>\n",
              "      <td>CyL8GWWJmci</td>\n",
              "      <td>Nach einem starken Wahlkampf ein verdientes Er...</td>\n",
              "      <td>Caption</td>\n",
              "      <td>['1. Wahlkampf und Wahlergebnis:\\n- Wahlkampf\\...</td>\n",
              "      <td>CyL8GWWJmci-Caption</td>\n",
              "    </tr>\n",
              "    <tr>\n",
              "      <th>3</th>\n",
              "      <td>3</td>\n",
              "      <td>CyL7wyJtTV5</td>\n",
              "      <td>So viele Menschen am Odeonsplatz heute mit ein...</td>\n",
              "      <td>Caption</td>\n",
              "      <td>['Israel', 'Terrorismus', 'Hamas', 'Entwicklun...</td>\n",
              "      <td>CyL7wyJtTV5-Caption</td>\n",
              "    </tr>\n",
              "    <tr>\n",
              "      <th>4</th>\n",
              "      <td>4</td>\n",
              "      <td>CyLxwHuvR4Y</td>\n",
              "      <td>Herzlichen Glückwunsch zu diesem grandiosen Wa...</td>\n",
              "      <td>Caption</td>\n",
              "      <td>['1. Wahlsieg und Parlamentseinstieg\\n- Wahlsi...</td>\n",
              "      <td>CyLxwHuvR4Y-Caption</td>\n",
              "    </tr>\n",
              "  </tbody>\n",
              "</table>\n",
              "</div>\n",
              "    <div class=\"colab-df-buttons\">\n",
              "\n",
              "  <div class=\"colab-df-container\">\n",
              "    <button class=\"colab-df-convert\" onclick=\"convertToInteractive('df-2c59a3eb-cae0-446b-a21d-3a49644eb089')\"\n",
              "            title=\"Convert this dataframe to an interactive table.\"\n",
              "            style=\"display:none;\">\n",
              "\n",
              "  <svg xmlns=\"http://www.w3.org/2000/svg\" height=\"24px\" viewBox=\"0 -960 960 960\">\n",
              "    <path d=\"M120-120v-720h720v720H120Zm60-500h600v-160H180v160Zm220 220h160v-160H400v160Zm0 220h160v-160H400v160ZM180-400h160v-160H180v160Zm440 0h160v-160H620v160ZM180-180h160v-160H180v160Zm440 0h160v-160H620v160Z\"/>\n",
              "  </svg>\n",
              "    </button>\n",
              "\n",
              "  <style>\n",
              "    .colab-df-container {\n",
              "      display:flex;\n",
              "      gap: 12px;\n",
              "    }\n",
              "\n",
              "    .colab-df-convert {\n",
              "      background-color: #E8F0FE;\n",
              "      border: none;\n",
              "      border-radius: 50%;\n",
              "      cursor: pointer;\n",
              "      display: none;\n",
              "      fill: #1967D2;\n",
              "      height: 32px;\n",
              "      padding: 0 0 0 0;\n",
              "      width: 32px;\n",
              "    }\n",
              "\n",
              "    .colab-df-convert:hover {\n",
              "      background-color: #E2EBFA;\n",
              "      box-shadow: 0px 1px 2px rgba(60, 64, 67, 0.3), 0px 1px 3px 1px rgba(60, 64, 67, 0.15);\n",
              "      fill: #174EA6;\n",
              "    }\n",
              "\n",
              "    .colab-df-buttons div {\n",
              "      margin-bottom: 4px;\n",
              "    }\n",
              "\n",
              "    [theme=dark] .colab-df-convert {\n",
              "      background-color: #3B4455;\n",
              "      fill: #D2E3FC;\n",
              "    }\n",
              "\n",
              "    [theme=dark] .colab-df-convert:hover {\n",
              "      background-color: #434B5C;\n",
              "      box-shadow: 0px 1px 3px 1px rgba(0, 0, 0, 0.15);\n",
              "      filter: drop-shadow(0px 1px 2px rgba(0, 0, 0, 0.3));\n",
              "      fill: #FFFFFF;\n",
              "    }\n",
              "  </style>\n",
              "\n",
              "    <script>\n",
              "      const buttonEl =\n",
              "        document.querySelector('#df-2c59a3eb-cae0-446b-a21d-3a49644eb089 button.colab-df-convert');\n",
              "      buttonEl.style.display =\n",
              "        google.colab.kernel.accessAllowed ? 'block' : 'none';\n",
              "\n",
              "      async function convertToInteractive(key) {\n",
              "        const element = document.querySelector('#df-2c59a3eb-cae0-446b-a21d-3a49644eb089');\n",
              "        const dataTable =\n",
              "          await google.colab.kernel.invokeFunction('convertToInteractive',\n",
              "                                                    [key], {});\n",
              "        if (!dataTable) return;\n",
              "\n",
              "        const docLinkHtml = 'Like what you see? Visit the ' +\n",
              "          '<a target=\"_blank\" href=https://colab.research.google.com/notebooks/data_table.ipynb>data table notebook</a>'\n",
              "          + ' to learn more about interactive tables.';\n",
              "        element.innerHTML = '';\n",
              "        dataTable['output_type'] = 'display_data';\n",
              "        await google.colab.output.renderOutput(dataTable, element);\n",
              "        const docLink = document.createElement('div');\n",
              "        docLink.innerHTML = docLinkHtml;\n",
              "        element.appendChild(docLink);\n",
              "      }\n",
              "    </script>\n",
              "  </div>\n",
              "\n",
              "\n",
              "<div id=\"df-d1ba7831-9de2-4749-b87e-81da240e5126\">\n",
              "  <button class=\"colab-df-quickchart\" onclick=\"quickchart('df-d1ba7831-9de2-4749-b87e-81da240e5126')\"\n",
              "            title=\"Suggest charts\"\n",
              "            style=\"display:none;\">\n",
              "\n",
              "<svg xmlns=\"http://www.w3.org/2000/svg\" height=\"24px\"viewBox=\"0 0 24 24\"\n",
              "     width=\"24px\">\n",
              "    <g>\n",
              "        <path d=\"M19 3H5c-1.1 0-2 .9-2 2v14c0 1.1.9 2 2 2h14c1.1 0 2-.9 2-2V5c0-1.1-.9-2-2-2zM9 17H7v-7h2v7zm4 0h-2V7h2v10zm4 0h-2v-4h2v4z\"/>\n",
              "    </g>\n",
              "</svg>\n",
              "  </button>\n",
              "\n",
              "<style>\n",
              "  .colab-df-quickchart {\n",
              "      --bg-color: #E8F0FE;\n",
              "      --fill-color: #1967D2;\n",
              "      --hover-bg-color: #E2EBFA;\n",
              "      --hover-fill-color: #174EA6;\n",
              "      --disabled-fill-color: #AAA;\n",
              "      --disabled-bg-color: #DDD;\n",
              "  }\n",
              "\n",
              "  [theme=dark] .colab-df-quickchart {\n",
              "      --bg-color: #3B4455;\n",
              "      --fill-color: #D2E3FC;\n",
              "      --hover-bg-color: #434B5C;\n",
              "      --hover-fill-color: #FFFFFF;\n",
              "      --disabled-bg-color: #3B4455;\n",
              "      --disabled-fill-color: #666;\n",
              "  }\n",
              "\n",
              "  .colab-df-quickchart {\n",
              "    background-color: var(--bg-color);\n",
              "    border: none;\n",
              "    border-radius: 50%;\n",
              "    cursor: pointer;\n",
              "    display: none;\n",
              "    fill: var(--fill-color);\n",
              "    height: 32px;\n",
              "    padding: 0;\n",
              "    width: 32px;\n",
              "  }\n",
              "\n",
              "  .colab-df-quickchart:hover {\n",
              "    background-color: var(--hover-bg-color);\n",
              "    box-shadow: 0 1px 2px rgba(60, 64, 67, 0.3), 0 1px 3px 1px rgba(60, 64, 67, 0.15);\n",
              "    fill: var(--button-hover-fill-color);\n",
              "  }\n",
              "\n",
              "  .colab-df-quickchart-complete:disabled,\n",
              "  .colab-df-quickchart-complete:disabled:hover {\n",
              "    background-color: var(--disabled-bg-color);\n",
              "    fill: var(--disabled-fill-color);\n",
              "    box-shadow: none;\n",
              "  }\n",
              "\n",
              "  .colab-df-spinner {\n",
              "    border: 2px solid var(--fill-color);\n",
              "    border-color: transparent;\n",
              "    border-bottom-color: var(--fill-color);\n",
              "    animation:\n",
              "      spin 1s steps(1) infinite;\n",
              "  }\n",
              "\n",
              "  @keyframes spin {\n",
              "    0% {\n",
              "      border-color: transparent;\n",
              "      border-bottom-color: var(--fill-color);\n",
              "      border-left-color: var(--fill-color);\n",
              "    }\n",
              "    20% {\n",
              "      border-color: transparent;\n",
              "      border-left-color: var(--fill-color);\n",
              "      border-top-color: var(--fill-color);\n",
              "    }\n",
              "    30% {\n",
              "      border-color: transparent;\n",
              "      border-left-color: var(--fill-color);\n",
              "      border-top-color: var(--fill-color);\n",
              "      border-right-color: var(--fill-color);\n",
              "    }\n",
              "    40% {\n",
              "      border-color: transparent;\n",
              "      border-right-color: var(--fill-color);\n",
              "      border-top-color: var(--fill-color);\n",
              "    }\n",
              "    60% {\n",
              "      border-color: transparent;\n",
              "      border-right-color: var(--fill-color);\n",
              "    }\n",
              "    80% {\n",
              "      border-color: transparent;\n",
              "      border-right-color: var(--fill-color);\n",
              "      border-bottom-color: var(--fill-color);\n",
              "    }\n",
              "    90% {\n",
              "      border-color: transparent;\n",
              "      border-bottom-color: var(--fill-color);\n",
              "    }\n",
              "  }\n",
              "</style>\n",
              "\n",
              "  <script>\n",
              "    async function quickchart(key) {\n",
              "      const quickchartButtonEl =\n",
              "        document.querySelector('#' + key + ' button');\n",
              "      quickchartButtonEl.disabled = true;  // To prevent multiple clicks.\n",
              "      quickchartButtonEl.classList.add('colab-df-spinner');\n",
              "      try {\n",
              "        const charts = await google.colab.kernel.invokeFunction(\n",
              "            'suggestCharts', [key], {});\n",
              "      } catch (error) {\n",
              "        console.error('Error during call to suggestCharts:', error);\n",
              "      }\n",
              "      quickchartButtonEl.classList.remove('colab-df-spinner');\n",
              "      quickchartButtonEl.classList.add('colab-df-quickchart-complete');\n",
              "    }\n",
              "    (() => {\n",
              "      let quickchartButtonEl =\n",
              "        document.querySelector('#df-d1ba7831-9de2-4749-b87e-81da240e5126 button');\n",
              "      quickchartButtonEl.style.display =\n",
              "        google.colab.kernel.accessAllowed ? 'block' : 'none';\n",
              "    })();\n",
              "  </script>\n",
              "</div>\n",
              "    </div>\n",
              "  </div>\n"
            ]
          },
          "metadata": {},
          "execution_count": 8
        }
      ]
    },
    {
      "cell_type": "code",
      "source": [
        "#@title ## LabelStudio Setup\n",
        "#@markdown Please specify the the URL and API-Key for you LabelStudio Instance.\n",
        "import json\n",
        "from google.colab import userdata\n",
        "\n",
        "labelstudio_key_name = \"label2-key\" #@param {type: \"string\"}\n",
        "labelstudio_key = userdata.get(labelstudio_key_name)\n",
        "labelstudio_url = \"https://label2.digitalhumanities.io\" #@param {type: \"string\"}"
      ],
      "metadata": {
        "cellView": "form",
        "id": "71Cj4_19X3AV"
      },
      "execution_count": 12,
      "outputs": []
    },
    {
      "cell_type": "markdown",
      "source": [
        "## Export to LabelStudio"
      ],
      "metadata": {
        "id": "YhkLOWLnYQlI"
      }
    },
    {
      "cell_type": "markdown",
      "source": [
        "### Create LabelStudio Interface\n",
        "Before creating the LabelStudio project you will need to define your labelling interface. Once the project is set up you will only be able to edit the interface in LabelStudio."
      ],
      "metadata": {
        "id": "NyWtV-3PDxn3"
      }
    },
    {
      "cell_type": "code",
      "source": [
        "interface = \"\"\"\n",
        "<View style=\"display:flex;\">\n",
        "  <View style=\"flex:33%\">\n",
        "    <Text name=\"Text\" value=\"$Text\"/>\n",
        "  </View>\n",
        "  <View style=\"flex:66%\">\n",
        "\"\"\""
      ],
      "metadata": {
        "id": "kVhp0vEGE4an"
      },
      "execution_count": 9,
      "outputs": []
    },
    {
      "cell_type": "code",
      "source": [
        "#@title ### Codes\n",
        "#@markdown Do you want add codes (Classification) to the images? Please name your coding instance and add options. <br/> **By running this cell multiple times you're able to add multiple variables (not recommended)**\n",
        "\n",
        "coding_name = \"Sentiment\" #@param {type:\"string\"}\n",
        "coding_values = \"Positive,Neutral,Negative\" #@param {type:\"string\"}\n",
        "coding_choice = \"single\" #@param [\"single\", \"multiple\"]\n",
        "\n",
        "coding_interface = '<Header value=\"{}\" /><Choices name=\"{}\" choice=\"{}\" toName=\"Text\">'.format(coding_name, coding_name,coding_choice)\n",
        "\n",
        "for value in coding_values.split(\",\"):\n",
        "  value = value.strip()\n",
        "  coding_interface += '<Choice value=\"{}\" />'.format(value)\n",
        "\n",
        "coding_interface += \"</Choices>\"\n",
        "\n",
        "interface += coding_interface\n",
        "\n",
        "print(\"Added {}\".format(coding_name))"
      ],
      "metadata": {
        "id": "iYYcR7nnIaj7",
        "cellView": "form"
      },
      "execution_count": null,
      "outputs": []
    },
    {
      "cell_type": "markdown",
      "source": [
        "**Don't forget to run the next line! It closes the interface XML!**"
      ],
      "metadata": {
        "id": "KJPxxRGZQvwe"
      }
    },
    {
      "cell_type": "code",
      "source": [
        "interface += \"\"\"\n",
        "        </View>\n",
        "    </View>\n",
        "    \"\"\""
      ],
      "metadata": {
        "id": "I1B_JTpMUbjy"
      },
      "execution_count": 10,
      "outputs": []
    },
    {
      "cell_type": "code",
      "source": [
        "#@title ## Create LabelStudio Project\n",
        "#@markdown In this step we will create a LabelStudio project and configure cloud storage and the interface.\n",
        "from label_studio_sdk import Client\n",
        "import contextlib\n",
        "import io\n",
        "\n",
        "project_name = \"vSMA Test 1\"  #@param {type: \"string\"}\n",
        "text_column = \"Text\"  #@param {type: \"string\"}\n",
        "identifier_column = \"identifier\"  #@param {type: \"string\"}\n",
        "#@markdown Percentage for drawing a sample to annotate, e.g. 30%\n",
        "sample_percentage = 30  #@param {type: \"number\", min:0, max:100}\n",
        "#@markdown Number of project copies. **Start testing with 1!**\n",
        "num_copies = 1  #@param {type: \"number\", min:0, max:3}\n",
        "\n",
        "sample_size = round(len(df) * (sample_percentage / 100))\n",
        "\n",
        "ls = Client(url=labelstudio_url, api_key=labelstudio_key)\n",
        "\n",
        "\n",
        "# Import all tasks\n",
        "df_tasks = df[[identifier_column, text_column]]\n",
        "df_tasks = df_tasks.sample(sample_size)\n",
        "df_tasks = df_tasks.fillna(\"\")\n",
        "\n",
        "for i in range(0, num_copies):\n",
        "  project_name = f\"{project_name} #{i}\"\n",
        "  # Create the project\n",
        "  project = ls.start_project(\n",
        "      title=project_name,\n",
        "      label_config=interface,\n",
        "      sampling=\"Uniform sampling\"\n",
        "  )\n",
        "\n",
        "  with contextlib.redirect_stdout(io.StringIO()):\n",
        "    project.import_tasks(\n",
        "          df_tasks.to_dict('records')\n",
        "        )\n",
        "\n",
        "  print(f\"All done, created project #{i}! Visit {labelstudio_url}/projects/{project.id}/ and get started labelling!\")\n",
        "\n"
      ],
      "metadata": {
        "id": "Uyvam3dH7uB5",
        "colab": {
          "base_uri": "https://localhost:8080/"
        },
        "cellView": "form",
        "outputId": "3e0856ad-0bf7-42a1-9ee6-ea17887f83fb"
      },
      "execution_count": 14,
      "outputs": [
        {
          "output_type": "stream",
          "name": "stdout",
          "text": [
            "All done, created project #0! Visit https://label2.digitalhumanities.io/projects/61/ and get started labelling!\n"
          ]
        }
      ]
    }
  ]
}